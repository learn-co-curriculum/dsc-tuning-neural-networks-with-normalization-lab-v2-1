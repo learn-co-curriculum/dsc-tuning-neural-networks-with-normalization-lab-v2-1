{
 "cells": [
  {
   "cell_type": "markdown",
   "metadata": {},
   "source": [
    "# Tuning Neural Networks with Normalization - Lab \n",
    "\n",
    "## Introduction\n",
    "\n",
    "In this lab you'll build a neural network to perform a regression task.\n",
    "\n",
    "It is worth noting that getting regression to work with neural networks can be comparatively difficult because the output is unbounded ($\\hat y$ can technically range from $-\\infty$ to $+\\infty$), and the models are especially prone to exploding gradients. This issue makes a regression exercise the perfect learning case for tinkering with normalization and optimization strategies to ensure proper convergence!\n",
    "\n",
    "## Objectives\n",
    "\n",
    "In this lab you will: \n",
    "\n",
    "- Fit a neural network to normalized data \n",
    "- Implement and observe the impact of various initialization techniques \n",
    "- Implement and observe the impact of various optimization techniques \n",
    "\n",
    "## Load the data \n",
    "\n",
    "First, run the following cell to import all the neccessary libraries and classes you will need in this lab. "
   ]
  },
  {
   "cell_type": "code",
   "execution_count": null,
   "metadata": {},
   "outputs": [],
   "source": [
    "# Necessary libraries and classes\n",
    "import numpy as np\n",
    "import pandas as pd\n",
    "from keras.models import Sequential\n",
    "from keras import initializers\n",
    "from keras import layers\n",
    "from sklearn.preprocessing import StandardScaler\n",
    "from sklearn.metrics import mean_squared_error\n",
    "from keras import optimizers\n",
    "from sklearn.model_selection import train_test_split\n",
    "\n",
    "import warnings\n",
    "warnings.filterwarnings('ignore')"
   ]
  },
  {
   "cell_type": "markdown",
   "metadata": {},
   "source": [
    "In this lab, you'll be working with the housing prices data you saw in an earlier section. However, we did a lot of preprocessing for you so you can focus on normalizing numeric features and building neural network models! The following preprocessing steps were taken (all the code can be found in the `data_preprocessing.ipynb` notebook in this repository): \n",
    "\n",
    "- The data was split into the training, validate, and test sets \n",
    "- All the missing values in numeric columns were replaced by the median of those columns \n",
    "- All the missing values in catetgorical columns were replaced with the word 'missing' \n",
    "- All the categorical columns were one-hot encoded \n",
    "\n",
    "Run the following cells to import the train, validate, and test sets:  "
   ]
  },
  {
   "cell_type": "code",
   "execution_count": null,
   "metadata": {},
   "outputs": [],
   "source": [
    "# Load all numeric features\n",
    "X_train_numeric = pd.read_csv('data/X_train_numeric.csv')\n",
    "X_test_numeric = pd.read_csv('data/X_test_numeric.csv')\n",
    "X_val_numeric = pd.read_csv('data/X_val_numeric.csv')\n",
    "\n",
    "# Load all categorical features\n",
    "X_train_cat = pd.read_csv('data/X_train_cat.csv')\n",
    "X_test_cat = pd.read_csv('data/X_test_cat.csv')\n",
    "X_val_cat = pd.read_csv('data/X_val_cat.csv')\n",
    "\n",
    "# Load all targets\n",
    "y_train = pd.read_csv('data/y_train.csv')\n",
    "y_test = pd.read_csv('data/y_test.csv')\n",
    "y_val = pd.read_csv('data/y_val.csv')"
   ]
  },
  {
   "cell_type": "code",
   "execution_count": null,
   "metadata": {},
   "outputs": [],
   "source": [
    "# Combine all features\n",
    "X_train = None\n",
    "X_val = None\n",
    "X_test = None"
   ]
  },
  {
   "cell_type": "markdown",
   "metadata": {},
   "source": [
    "As a refresher, preview the training data: "
   ]
  },
  {
   "cell_type": "code",
   "execution_count": null,
   "metadata": {},
   "outputs": [],
   "source": [
    "# Preview the data\n",
    "X_train.head()"
   ]
  },
  {
   "cell_type": "markdown",
   "metadata": {},
   "source": [
    "## Build a Baseline Model\n",
    "\n",
    "Building a naive baseline model to compare performance against is a helpful reference point. From there, you can then observe the impact of various tunning procedures which will iteratively improve your model. So, let's do just that! \n",
    "\n",
    "In the cell below: \n",
    "\n",
    "- Add an input layer with `n_features` units \n",
    "- Add two hidden layers, one with 100 and the other with 50 units (make sure you use the `'relu'` activation function) \n",
    "- Add an output layer with 1 unit and `'linear'` activation \n",
    "- Compile and fit the model "
   ]
  },
  {
   "cell_type": "markdown",
   "metadata": {},
   "source": [
    "Here, we're calling .shape on our training data so that we can use the result as n_features, so we know how big to make our input layer."
   ]
  },
  {
   "cell_type": "code",
   "execution_count": null,
   "metadata": {},
   "outputs": [],
   "source": [
    "n_features = (X_train.shape[1],)\n",
    "print(n_features)"
   ]
  },
  {
   "cell_type": "code",
   "execution_count": null,
   "metadata": {},
   "outputs": [],
   "source": [
    "np.random.seed(123)\n",
    "baseline_model = Sequential()\n",
    "\n",
    "# Hidden layer with 100 units\n",
    "\n",
    "\n",
    "# Hidden layer with 50 units\n",
    "\n",
    "\n",
    "# Output layer\n",
    "\n",
    "\n",
    "# Compile the model\n",
    "baseline_model.compile(optimizer='SGD', \n",
    "                       loss='mse', \n",
    "                       metrics=['mse'])\n",
    "\n",
    "# Train the model\n",
    "baseline_model.fit(X_train, \n",
    "                   y_train, \n",
    "                   batch_size=32, \n",
    "                   epochs=150, \n",
    "                   validation_data=(X_val, y_val))"
   ]
  },
  {
   "cell_type": "markdown",
   "metadata": {},
   "source": [
    "> _**Notice this extremely problematic behavior: all the values for training and validation loss are \"nan\". This indicates that the algorithm did not converge. The first solution to this is to normalize the input. From there, if convergence is not achieved, normalizing the output may also be required.**_ \n",
    "\n",
    "## Normalize the Input Data \n",
    "\n",
    "It's now time to normalize the input data. In the cell below: \n",
    "\n",
    "- Assign the column names of all numeric columns to `numeric_columns` \n",
    "- Instantiate a `StandardScaler` \n",
    "- Fit and transform `X_train_numeric`. Make sure you convert the result into a DataFrame (use `numeric_columns` as the column names) \n",
    "- Transform validate and test sets (`X_val_numeric` and `X_test_numeric`), and convert these results into DataFrames as well \n",
    "- Use the provided to combine the scaled numerical and categorical features "
   ]
  },
  {
   "cell_type": "code",
   "execution_count": null,
   "metadata": {},
   "outputs": [],
   "source": [
    "# Numeric column names\n",
    "numeric_columns = None \n",
    "\n",
    "# Instantiate StandardScaler\n",
    "ss_X = None\n",
    "\n",
    "# Fit and transform train data\n",
    "X_train_scaled = None\n",
    "\n",
    "# Transform validate and test data\n",
    "X_val_scaled = None\n",
    "X_test_scaled = None\n",
    "\n",
    "# Combine the scaled numerical features and categorical features\n",
    "X_train = pd.concat([X_train_scaled, X_train_cat], axis=1)\n",
    "X_val = pd.concat([X_val_scaled, X_val_cat], axis=1)\n",
    "X_test = pd.concat([X_test_scaled, X_test_cat], axis=1)"
   ]
  },
  {
   "cell_type": "markdown",
   "metadata": {},
   "source": [
    "Now run the following cell to compile a neural network model (with the same architecture as before): "
   ]
  },
  {
   "cell_type": "code",
   "execution_count": null,
   "metadata": {},
   "outputs": [],
   "source": [
    "# Model with all normalized inputs\n",
    "np.random.seed(123)\n",
    "normalized_input_model = Sequential()\n",
    "normalized_input_model.add(layers.Dense(100, activation='relu', input_shape=n_features))\n",
    "normalized_input_model.add(layers.Dense(50, activation='relu'))\n",
    "normalized_input_model.add(layers.Dense(1, activation='linear'))\n",
    "\n",
    "# Compile the model\n",
    "normalized_input_model.compile(optimizer='SGD', \n",
    "                               loss='mse', \n",
    "                               metrics=['mse'])"
   ]
  },
  {
   "cell_type": "markdown",
   "metadata": {},
   "source": [
    "In the cell below: \n",
    "- Train the `normalized_input_model` on normalized input (`X_train`) and output (`y_train`) \n",
    "- Set a batch size of 32 and train for 150 epochs \n",
    "- Specify the `validation_data` argument as `(X_val, y_val)` "
   ]
  },
  {
   "cell_type": "code",
   "execution_count": null,
   "metadata": {},
   "outputs": [],
   "source": [
    "# Train the model\n",
    "\n"
   ]
  },
  {
   "cell_type": "markdown",
   "metadata": {},
   "source": [
    "> _**Note that you still haven't achieved convergence! From here, it's time to normalize the output data.**_\n",
    "\n",
    "## Normalizing the output\n",
    "\n",
    "Again, use `StandardScaler()` to: \n",
    "\n",
    "- Fit and transform `y_train` \n",
    "- Transform `y_val` and `y_test` "
   ]
  },
  {
   "cell_type": "code",
   "execution_count": null,
   "metadata": {},
   "outputs": [],
   "source": [
    "# Instantiate StandardScaler\n",
    "ss_y = None\n",
    "\n",
    "# Fit and transform train labels\n",
    "y_train_scaled = None\n",
    "\n",
    "# Transform validate and test labels\n",
    "y_val_scaled = None\n",
    "y_test_scaled = None"
   ]
  },
  {
   "cell_type": "markdown",
   "metadata": {},
   "source": [
    "In the cell below: \n",
    "- Train the `normalized_model` on normalized input (`X_train`) and output (`y_train_scaled`) \n",
    "- Set a batch size of 32 and train for 150 epochs \n",
    "- Specify the `validation_data` as `(X_val, y_val_scaled)` "
   ]
  },
  {
   "cell_type": "code",
   "execution_count": null,
   "metadata": {},
   "outputs": [],
   "source": [
    "# Model with all normalized inputs and outputs\n",
    "np.random.seed(123)\n",
    "normalized_model = Sequential()\n",
    "normalized_model.add(layers.Dense(100, activation='relu', input_shape=(n_features)))\n",
    "normalized_model.add(layers.Dense(50, activation='relu'))\n",
    "normalized_model.add(layers.Dense(1, activation='linear'))\n",
    "\n",
    "# Compile the model\n",
    "normalized_model.compile(optimizer='SGD', \n",
    "                         loss='mse', \n",
    "                         metrics=['mse']) \n",
    "\n",
    "# Train the model"
   ]
  },
  {
   "cell_type": "markdown",
   "metadata": {},
   "source": [
    "Nicely done! After normalizing both the input and output, the model finally converged. \n",
    "\n",
    "- Evaluate the model (`normalized_model`) on training data (`X_train` and `y_train_scaled`) "
   ]
  },
  {
   "cell_type": "code",
   "execution_count": null,
   "metadata": {},
   "outputs": [],
   "source": [
    "# Evaluate the model on training data"
   ]
  },
  {
   "cell_type": "markdown",
   "metadata": {},
   "source": [
    "- Evaluate the model (`normalized_model`) on validate data (`X_val` and `y_val_scaled`) "
   ]
  },
  {
   "cell_type": "markdown",
   "metadata": {},
   "source": [
    "Since the output is normalized, the metric above is not interpretable. To remedy this: \n",
    "\n",
    "- Generate predictions on validate data (`X_val`) \n",
    "- Transform these predictions back to original scale using `ss_y` \n",
    "- Now you can calculate the RMSE in the original units with `y_val` and `y_val_pred` "
   ]
  },
  {
   "cell_type": "code",
   "execution_count": null,
   "metadata": {},
   "outputs": [],
   "source": [
    "# Generate predictions on validate data\n",
    "y_val_pred_scaled = None\n",
    "\n",
    "# Transform the predictions back to original scale\n",
    "y_val_pred = None\n",
    "\n",
    "# RMSE of validate data"
   ]
  },
  {
   "cell_type": "markdown",
   "metadata": {},
   "source": [
    "Great! Now that you have a converged model, you can also experiment with alternative optimizers and initialization strategies to see if you can find a better global minimum. (After all, the current models may have converged to a local minimum.) \n",
    "\n",
    "## Using Weight Initializers\n",
    "\n",
    "In this section you will to use alternative initialization and optimization strategies. At the end, you'll then be asked to select the model which you believe performs the best.  \n",
    "\n",
    "##  He Initialization\n",
    "\n",
    "In the cell below, sepcify the following in the first hidden layer:  \n",
    "  - 100 units \n",
    "  - `'relu'` activation \n",
    "  - `input_shape` \n",
    "  - `kernel_initializer='he_normal'`  "
   ]
  },
  {
   "cell_type": "code",
   "execution_count": null,
   "metadata": {},
   "outputs": [],
   "source": [
    "np.random.seed(123)\n",
    "he_model = Sequential()\n",
    "\n",
    "# Add the first hidden layer\n",
    "\n",
    "\n",
    "# Add another hidden layer\n",
    "he_model.add(layers.Dense(50, activation='relu'))\n",
    "\n",
    "# Add an output layer\n",
    "he_model.add(layers.Dense(1, activation='linear'))\n",
    "\n",
    "# Compile the model\n",
    "\n",
    "# Train the model"
   ]
  },
  {
   "cell_type": "markdown",
   "metadata": {},
   "source": [
    "Evaluate the model (`he_model`) on training data (`X_train` and `y_train_scaled`) "
   ]
  },
  {
   "cell_type": "code",
   "execution_count": null,
   "metadata": {},
   "outputs": [],
   "source": [
    "# Evaluate the model on training data\n"
   ]
  },
  {
   "cell_type": "markdown",
   "metadata": {},
   "source": [
    "Evaluate the model (`he_model`) on validate data (`X_val` and `y_val_scaled`)"
   ]
  },
  {
   "cell_type": "code",
   "execution_count": null,
   "metadata": {},
   "outputs": [],
   "source": [
    "# Evaluate the model on validate data\n"
   ]
  },
  {
   "cell_type": "markdown",
   "metadata": {},
   "source": [
    "## Lecun Initialization \n",
    "\n",
    "In the cell below, sepcify the following in the first hidden layer:  \n",
    "  - 100 units \n",
    "  - `'relu'` activation \n",
    "  - `input_shape` \n",
    "  - `kernel_initializer='lecun_normal'` "
   ]
  },
  {
   "cell_type": "code",
   "execution_count": null,
   "metadata": {},
   "outputs": [],
   "source": [
    "np.random.seed(123)\n",
    "lecun_model = Sequential()\n",
    "\n",
    "# Add the first hidden layer\n",
    "lecun_model.add(layers.Dense(100, kernel_initializer='lecun_normal', activation='relu', input_shape=n_features))\n",
    "\n",
    "# Add another hidden layer\n",
    "lecun_model.add(layers.Dense(50, activation='relu'))\n",
    "\n",
    "# Add an output layer\n",
    "lecun_model.add(layers.Dense(1, activation='linear'))\n",
    "\n",
    "# Compile the model\n",
    "\n",
    "\n",
    "# Train the model\n",
    "lecun_model.fit(X_train, \n",
    "                y_train_scaled, \n",
    "                batch_size=32, \n",
    "                epochs=150, \n",
    "                validation_data=(X_val, y_val_scaled))"
   ]
  },
  {
   "cell_type": "markdown",
   "metadata": {},
   "source": [
    "Evaluate the model (`lecun_model`) on training data (`X_train` and `y_train_scaled`) "
   ]
  },
  {
   "cell_type": "code",
   "execution_count": null,
   "metadata": {},
   "outputs": [],
   "source": [
    "# Evaluate the model on training data"
   ]
  },
  {
   "cell_type": "markdown",
   "metadata": {},
   "source": [
    "Evaluate the model (`lecun_model`) on validate data (`X_train` and `y_train_scaled`) "
   ]
  },
  {
   "cell_type": "code",
   "execution_count": null,
   "metadata": {},
   "outputs": [],
   "source": [
    "# Evaluate the model on validate data"
   ]
  },
  {
   "cell_type": "markdown",
   "metadata": {},
   "source": [
    "Not much of a difference, but a useful note to consider when tuning your network. Next, let's investigate the impact of various optimization algorithms."
   ]
  },
  {
   "cell_type": "markdown",
   "metadata": {},
   "source": [
    "## RMSprop \n",
    "\n",
    "Compile the `rmsprop_model` with: \n",
    "\n",
    "- `'rmsprop'` as the optimizer \n",
    "- track `'mse'` as the loss and metric  "
   ]
  },
  {
   "cell_type": "code",
   "execution_count": null,
   "metadata": {},
   "outputs": [],
   "source": [
    "np.random.seed(123)\n",
    "rmsprop_model = Sequential()\n",
    "rmsprop_model.add(layers.Dense(100, activation='relu', input_shape=n_features))\n",
    "rmsprop_model.add(layers.Dense(50, activation='relu'))\n",
    "rmsprop_model.add(layers.Dense(1, activation='linear'))\n",
    "\n",
    "# Compile the model\n",
    "\n",
    "\n",
    "# Train the model\n",
    "rmsprop_model.fit(X_train, \n",
    "                  y_train_scaled, \n",
    "                  batch_size=32, \n",
    "                  epochs=150, \n",
    "                  validation_data=(X_val, y_val_scaled))"
   ]
  },
  {
   "cell_type": "markdown",
   "metadata": {},
   "source": [
    "Evaluate the model (`rmsprop_model`) on training data (`X_train` and `y_train_scaled`) "
   ]
  },
  {
   "cell_type": "code",
   "execution_count": null,
   "metadata": {},
   "outputs": [],
   "source": [
    "# Evaluate the model on training data"
   ]
  },
  {
   "cell_type": "markdown",
   "metadata": {},
   "source": [
    "Evaluate the model (`rmsprop_model`) on training data (`X_val` and `y_val_scaled`) "
   ]
  },
  {
   "cell_type": "code",
   "execution_count": null,
   "metadata": {},
   "outputs": [],
   "source": [
    "# Evaluate the model on validate data"
   ]
  },
  {
   "cell_type": "markdown",
   "metadata": {},
   "source": [
    "## Adam \n",
    "\n",
    "Compile the `adam_model` with: \n",
    "\n",
    "- `'Adam'` as the optimizer \n",
    "- track `'mse'` as the loss and metric  "
   ]
  },
  {
   "cell_type": "code",
   "execution_count": null,
   "metadata": {},
   "outputs": [],
   "source": [
    "np.random.seed(123)\n",
    "adam_model = Sequential()\n",
    "adam_model.add(layers.Dense(100, activation='relu', input_shape=n_features))\n",
    "adam_model.add(layers.Dense(50, activation='relu'))\n",
    "adam_model.add(layers.Dense(1, activation='linear'))\n",
    "\n",
    "# Compile the model\n",
    "\n",
    "\n",
    "# Train the model\n",
    "adam_model.fit(X_train, \n",
    "               y_train_scaled, \n",
    "               batch_size=32, \n",
    "               epochs=150, \n",
    "               validation_data=(X_val, y_val_scaled))"
   ]
  },
  {
   "cell_type": "markdown",
   "metadata": {},
   "source": [
    "Evaluate the model (`adam_model`) on training data (`X_train` and `y_train_scaled`) "
   ]
  },
  {
   "cell_type": "code",
   "execution_count": null,
   "metadata": {},
   "outputs": [],
   "source": [
    "# Evaluate the model on training data"
   ]
  },
  {
   "cell_type": "markdown",
   "metadata": {},
   "source": [
    "Evaluate the model (`adam_model`) on training data (`X_val` and `y_val_scaled`) "
   ]
  },
  {
   "cell_type": "code",
   "execution_count": null,
   "metadata": {},
   "outputs": [],
   "source": [
    "# Evaluate the model on validate data"
   ]
  },
  {
   "cell_type": "markdown",
   "metadata": {},
   "source": [
    "## Select a Final Model\n",
    "\n",
    "Now, select the model with the best performance based on the training and validation sets. Evaluate this top model using the test set!"
   ]
  },
  {
   "cell_type": "code",
   "execution_count": null,
   "metadata": {},
   "outputs": [],
   "source": [
    "# Evaluate the best model on test data\n"
   ]
  },
  {
   "cell_type": "markdown",
   "metadata": {},
   "source": [
    "As earlier, this metric is hard to interpret because the output is scaled. \n",
    "\n",
    "- Generate predictions on test data (`X_test`) \n",
    "- Transform these predictions back to original scale using `ss_y` \n",
    "- Now you can calculate the RMSE in the original units with `y_test` and `y_test_pred` "
   ]
  },
  {
   "cell_type": "code",
   "execution_count": null,
   "metadata": {},
   "outputs": [],
   "source": [
    "# Generate predictions on test data\n",
    "y_test_pred_scaled = None\n",
    "\n",
    "# Transform the predictions back to original scale\n",
    "y_test_pred = None\n",
    "\n",
    "# MSE of test data\n"
   ]
  },
  {
   "cell_type": "markdown",
   "metadata": {},
   "source": [
    "## Summary  \n",
    "\n",
    "In this lab, you worked to ensure your model converged properly by normalizing both the input and output. Additionally, you also investigated the impact of varying initialization and optimization routines."
   ]
  }
 ],
 "metadata": {
  "kernelspec": {
   "display_name": "Python (learn-env)",
   "language": "python",
   "name": "learn-env"
  },
  "language_info": {
   "codemirror_mode": {
    "name": "ipython",
    "version": 3
   },
   "file_extension": ".py",
   "mimetype": "text/x-python",
   "name": "python",
   "nbconvert_exporter": "python",
   "pygments_lexer": "ipython3",
   "version": "3.8.5"
  },
  "toc": {
   "base_numbering": 1,
   "nav_menu": {},
   "number_sections": true,
   "sideBar": true,
   "skip_h1_title": false,
   "title_cell": "Table of Contents",
   "title_sidebar": "Contents",
   "toc_cell": false,
   "toc_position": {},
   "toc_section_display": true,
   "toc_window_display": false
  }
 },
 "nbformat": 4,
 "nbformat_minor": 2
}
